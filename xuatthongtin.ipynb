{
 "cells": [
  {
   "cell_type": "code",
   "execution_count": 2,
   "id": "6cfd1f26",
   "metadata": {},
   "outputs": [
    {
     "name": "stdout",
     "output_type": "stream",
     "text": [
      "Họ và tên: Nguyễn Kim Trọng\n"
     ]
    }
   ],
   "source": [
    "print (\"Họ và tên: Nguyễn Kim Trọng\")"
   ]
  },
  {
   "cell_type": "code",
   "execution_count": 3,
   "id": "d2f3682d",
   "metadata": {},
   "outputs": [
    {
     "name": "stdout",
     "output_type": "stream",
     "text": [
      " Ngày tháng năm sinh: 30/10/1998\n"
     ]
    }
   ],
   "source": [
    "print (\" Ngày tháng năm sinh: 30/10/1998\")"
   ]
  },
  {
   "cell_type": "code",
   "execution_count": null,
   "id": "31001540",
   "metadata": {},
   "outputs": [],
   "source": []
  }
 ],
 "metadata": {
  "kernelspec": {
   "display_name": "Python 3",
   "language": "python",
   "name": "python3"
  },
  "language_info": {
   "codemirror_mode": {
    "name": "ipython",
    "version": 3
   },
   "file_extension": ".py",
   "mimetype": "text/x-python",
   "name": "python",
   "nbconvert_exporter": "python",
   "pygments_lexer": "ipython3",
   "version": "3.8.8"
  }
 },
 "nbformat": 4,
 "nbformat_minor": 5
}
